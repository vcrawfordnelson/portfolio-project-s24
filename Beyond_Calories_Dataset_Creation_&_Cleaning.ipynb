{
  "nbformat": 4,
  "nbformat_minor": 0,
  "metadata": {
    "colab": {
      "provenance": [],
      "authorship_tag": "ABX9TyNRSIEbN0we5b977+nuLz4K",
      "include_colab_link": true
    },
    "kernelspec": {
      "name": "python3",
      "display_name": "Python 3"
    },
    "language_info": {
      "name": "python"
    }
  },
  "cells": [
    {
      "cell_type": "markdown",
      "metadata": {
        "id": "view-in-github",
        "colab_type": "text"
      },
      "source": [
        "<a href=\"https://colab.research.google.com/github/victoriacnelson/Beyond-Calories/blob/main/Beyond_Calories_Dataset_Creation_%26_Cleaning.ipynb\" target=\"_parent\"><img src=\"https://colab.research.google.com/assets/colab-badge.svg\" alt=\"Open In Colab\"/></a>"
      ]
    },
    {
      "cell_type": "markdown",
      "source": [
        "# Imports & Setup"
      ],
      "metadata": {
        "id": "aTswn0FvPzqL"
      }
    },
    {
      "cell_type": "code",
      "source": [
        "import matplotlib.pyplot as plt\n",
        "import numpy as np\n",
        "import pandas as pd\n",
        "\n",
        "import seaborn as sns\n",
        "\n",
        "from scipy.stats import norm as norm\n",
        "\n",
        "from sklearn import datasets\n",
        "from sklearn.model_selection import train_test_split , KFold\n",
        "from sklearn.preprocessing import Normalizer\n",
        "from sklearn.metrics import accuracy_score, confusion_matrix\n",
        "from sklearn.neighbors import KNeighborsClassifier\n",
        "\n",
        "from statistics import mode"
      ],
      "metadata": {
        "id": "QPWCyuLha6ZX"
      },
      "execution_count": 1,
      "outputs": []
    },
    {
      "cell_type": "markdown",
      "source": [
        "Reading in the datasets below from the project GitHub Repository."
      ],
      "metadata": {
        "id": "P5E6fv5MP5wb"
      }
    },
    {
      "cell_type": "code",
      "execution_count": 2,
      "metadata": {
        "id": "RiQffPFDar3n"
      },
      "outputs": [],
      "source": [
        "file_path = 'https://raw.githubusercontent.com/victoriacnelson/Beyond-Calories/main/data/by%20DHQ%20Food%20Group%20gi_values.csfii_94-96_foodcodes.csv'\n",
        "gi_df = pd.read_csv(file_path)"
      ]
    },
    {
      "cell_type": "code",
      "source": [
        "file_path = 'https://raw.githubusercontent.com/victoriacnelson/Beyond-Calories/main/data/corgis.edu.githubfood.csv'\n",
        "nutrient_df = pd.read_csv(file_path)"
      ],
      "metadata": {
        "id": "DE1JZK_5bSfb"
      },
      "execution_count": 3,
      "outputs": []
    },
    {
      "cell_type": "code",
      "source": [
        "file_path = 'https://raw.githubusercontent.com/victoriacnelson/Beyond-Calories/main/data/FINAL%204.3.24%20Oxalate-Content-of-Foods%20with%20GI%20added.csv'\n",
        "oxalate_gi_df = pd.read_csv(file_path)"
      ],
      "metadata": {
        "id": "NvQozcKebMTz"
      },
      "execution_count": 4,
      "outputs": []
    },
    {
      "cell_type": "code",
      "source": [
        "gi_df.head()"
      ],
      "metadata": {
        "colab": {
          "base_uri": "https://localhost:8080/",
          "height": 403
        },
        "id": "GSzaHj4mcEPo",
        "outputId": "13ca0316-de50-4b26-c70b-5b1c2182aafe"
      },
      "execution_count": 5,
      "outputs": [
        {
          "output_type": "execute_result",
          "data": {
            "text/plain": [
              "   DHQ Food Group Code    DHQ Food Group Name  CSFII 1994-96 Food Code  \\\n",
              "0                  5.1  Milk, whole in cereal                 11111000   \n",
              "1                  5.1  Milk, whole in cereal                 11121100   \n",
              "2                  5.2     Milk, 2% in cereal                 11100000   \n",
              "3                  5.2     Milk, 2% in cereal                 11112110   \n",
              "4                  5.2     Milk, 2% in cereal                 11114330   \n",
              "\n",
              "             Food Description in 1994-96 CSFII GI Value  \\\n",
              "0                    Milk, cow's, fluid, whole     27.0   \n",
              "1              Milk, dry, reconstituted, whole     27.0   \n",
              "2                                    Milk, NFS     29.5   \n",
              "3                   Milk, cow's, fluid, 2% fat     29.5   \n",
              "4  Milk, cow's, fluid, lactose reduced, 2% fat     29.5   \n",
              "\n",
              "  GI Links to:   Foster-Powel K, Holt, SHA, Brand-Miller JC. International table of glycemic index and glycemic load values: 2002. Am J Clin Nutri 2002;76:5-56.  \n",
              "0  369;DAIRY PRODUCTS AND ALTERNATIVES;;Milk, ful...                                                                                                              \n",
              "1  369;DAIRY PRODUCTS AND ALTERNATIVES;;Milk, ful...                                                                                                              \n",
              "2  369;DAIRY PRODUCTS AND ALTERNATIVES;;Milk, ful...                                                                                                              \n",
              "3  369;DAIRY PRODUCTS AND ALTERNATIVES;;Milk, ful...                                                                                                              \n",
              "4  369;DAIRY PRODUCTS AND ALTERNATIVES;;Milk, ful...                                                                                                              "
            ],
            "text/html": [
              "\n",
              "  <div id=\"df-cbddadd7-101f-486c-87ff-fedf30fc6306\" class=\"colab-df-container\">\n",
              "    <div>\n",
              "<style scoped>\n",
              "    .dataframe tbody tr th:only-of-type {\n",
              "        vertical-align: middle;\n",
              "    }\n",
              "\n",
              "    .dataframe tbody tr th {\n",
              "        vertical-align: top;\n",
              "    }\n",
              "\n",
              "    .dataframe thead th {\n",
              "        text-align: right;\n",
              "    }\n",
              "</style>\n",
              "<table border=\"1\" class=\"dataframe\">\n",
              "  <thead>\n",
              "    <tr style=\"text-align: right;\">\n",
              "      <th></th>\n",
              "      <th>DHQ Food Group Code</th>\n",
              "      <th>DHQ Food Group Name</th>\n",
              "      <th>CSFII 1994-96 Food Code</th>\n",
              "      <th>Food Description in 1994-96 CSFII</th>\n",
              "      <th>GI Value</th>\n",
              "      <th>GI Links to:   Foster-Powel K, Holt, SHA, Brand-Miller JC. International table of glycemic index and glycemic load values: 2002. Am J Clin Nutri 2002;76:5-56.</th>\n",
              "    </tr>\n",
              "  </thead>\n",
              "  <tbody>\n",
              "    <tr>\n",
              "      <th>0</th>\n",
              "      <td>5.1</td>\n",
              "      <td>Milk, whole in cereal</td>\n",
              "      <td>11111000</td>\n",
              "      <td>Milk, cow's, fluid, whole</td>\n",
              "      <td>27.0</td>\n",
              "      <td>369;DAIRY PRODUCTS AND ALTERNATIVES;;Milk, ful...</td>\n",
              "    </tr>\n",
              "    <tr>\n",
              "      <th>1</th>\n",
              "      <td>5.1</td>\n",
              "      <td>Milk, whole in cereal</td>\n",
              "      <td>11121100</td>\n",
              "      <td>Milk, dry, reconstituted, whole</td>\n",
              "      <td>27.0</td>\n",
              "      <td>369;DAIRY PRODUCTS AND ALTERNATIVES;;Milk, ful...</td>\n",
              "    </tr>\n",
              "    <tr>\n",
              "      <th>2</th>\n",
              "      <td>5.2</td>\n",
              "      <td>Milk, 2% in cereal</td>\n",
              "      <td>11100000</td>\n",
              "      <td>Milk, NFS</td>\n",
              "      <td>29.5</td>\n",
              "      <td>369;DAIRY PRODUCTS AND ALTERNATIVES;;Milk, ful...</td>\n",
              "    </tr>\n",
              "    <tr>\n",
              "      <th>3</th>\n",
              "      <td>5.2</td>\n",
              "      <td>Milk, 2% in cereal</td>\n",
              "      <td>11112110</td>\n",
              "      <td>Milk, cow's, fluid, 2% fat</td>\n",
              "      <td>29.5</td>\n",
              "      <td>369;DAIRY PRODUCTS AND ALTERNATIVES;;Milk, ful...</td>\n",
              "    </tr>\n",
              "    <tr>\n",
              "      <th>4</th>\n",
              "      <td>5.2</td>\n",
              "      <td>Milk, 2% in cereal</td>\n",
              "      <td>11114330</td>\n",
              "      <td>Milk, cow's, fluid, lactose reduced, 2% fat</td>\n",
              "      <td>29.5</td>\n",
              "      <td>369;DAIRY PRODUCTS AND ALTERNATIVES;;Milk, ful...</td>\n",
              "    </tr>\n",
              "  </tbody>\n",
              "</table>\n",
              "</div>\n",
              "    <div class=\"colab-df-buttons\">\n",
              "\n",
              "  <div class=\"colab-df-container\">\n",
              "    <button class=\"colab-df-convert\" onclick=\"convertToInteractive('df-cbddadd7-101f-486c-87ff-fedf30fc6306')\"\n",
              "            title=\"Convert this dataframe to an interactive table.\"\n",
              "            style=\"display:none;\">\n",
              "\n",
              "  <svg xmlns=\"http://www.w3.org/2000/svg\" height=\"24px\" viewBox=\"0 -960 960 960\">\n",
              "    <path d=\"M120-120v-720h720v720H120Zm60-500h600v-160H180v160Zm220 220h160v-160H400v160Zm0 220h160v-160H400v160ZM180-400h160v-160H180v160Zm440 0h160v-160H620v160ZM180-180h160v-160H180v160Zm440 0h160v-160H620v160Z\"/>\n",
              "  </svg>\n",
              "    </button>\n",
              "\n",
              "  <style>\n",
              "    .colab-df-container {\n",
              "      display:flex;\n",
              "      gap: 12px;\n",
              "    }\n",
              "\n",
              "    .colab-df-convert {\n",
              "      background-color: #E8F0FE;\n",
              "      border: none;\n",
              "      border-radius: 50%;\n",
              "      cursor: pointer;\n",
              "      display: none;\n",
              "      fill: #1967D2;\n",
              "      height: 32px;\n",
              "      padding: 0 0 0 0;\n",
              "      width: 32px;\n",
              "    }\n",
              "\n",
              "    .colab-df-convert:hover {\n",
              "      background-color: #E2EBFA;\n",
              "      box-shadow: 0px 1px 2px rgba(60, 64, 67, 0.3), 0px 1px 3px 1px rgba(60, 64, 67, 0.15);\n",
              "      fill: #174EA6;\n",
              "    }\n",
              "\n",
              "    .colab-df-buttons div {\n",
              "      margin-bottom: 4px;\n",
              "    }\n",
              "\n",
              "    [theme=dark] .colab-df-convert {\n",
              "      background-color: #3B4455;\n",
              "      fill: #D2E3FC;\n",
              "    }\n",
              "\n",
              "    [theme=dark] .colab-df-convert:hover {\n",
              "      background-color: #434B5C;\n",
              "      box-shadow: 0px 1px 3px 1px rgba(0, 0, 0, 0.15);\n",
              "      filter: drop-shadow(0px 1px 2px rgba(0, 0, 0, 0.3));\n",
              "      fill: #FFFFFF;\n",
              "    }\n",
              "  </style>\n",
              "\n",
              "    <script>\n",
              "      const buttonEl =\n",
              "        document.querySelector('#df-cbddadd7-101f-486c-87ff-fedf30fc6306 button.colab-df-convert');\n",
              "      buttonEl.style.display =\n",
              "        google.colab.kernel.accessAllowed ? 'block' : 'none';\n",
              "\n",
              "      async function convertToInteractive(key) {\n",
              "        const element = document.querySelector('#df-cbddadd7-101f-486c-87ff-fedf30fc6306');\n",
              "        const dataTable =\n",
              "          await google.colab.kernel.invokeFunction('convertToInteractive',\n",
              "                                                    [key], {});\n",
              "        if (!dataTable) return;\n",
              "\n",
              "        const docLinkHtml = 'Like what you see? Visit the ' +\n",
              "          '<a target=\"_blank\" href=https://colab.research.google.com/notebooks/data_table.ipynb>data table notebook</a>'\n",
              "          + ' to learn more about interactive tables.';\n",
              "        element.innerHTML = '';\n",
              "        dataTable['output_type'] = 'display_data';\n",
              "        await google.colab.output.renderOutput(dataTable, element);\n",
              "        const docLink = document.createElement('div');\n",
              "        docLink.innerHTML = docLinkHtml;\n",
              "        element.appendChild(docLink);\n",
              "      }\n",
              "    </script>\n",
              "  </div>\n",
              "\n",
              "\n",
              "<div id=\"df-f61651bf-f60a-4945-b1fd-000c396221ef\">\n",
              "  <button class=\"colab-df-quickchart\" onclick=\"quickchart('df-f61651bf-f60a-4945-b1fd-000c396221ef')\"\n",
              "            title=\"Suggest charts\"\n",
              "            style=\"display:none;\">\n",
              "\n",
              "<svg xmlns=\"http://www.w3.org/2000/svg\" height=\"24px\"viewBox=\"0 0 24 24\"\n",
              "     width=\"24px\">\n",
              "    <g>\n",
              "        <path d=\"M19 3H5c-1.1 0-2 .9-2 2v14c0 1.1.9 2 2 2h14c1.1 0 2-.9 2-2V5c0-1.1-.9-2-2-2zM9 17H7v-7h2v7zm4 0h-2V7h2v10zm4 0h-2v-4h2v4z\"/>\n",
              "    </g>\n",
              "</svg>\n",
              "  </button>\n",
              "\n",
              "<style>\n",
              "  .colab-df-quickchart {\n",
              "      --bg-color: #E8F0FE;\n",
              "      --fill-color: #1967D2;\n",
              "      --hover-bg-color: #E2EBFA;\n",
              "      --hover-fill-color: #174EA6;\n",
              "      --disabled-fill-color: #AAA;\n",
              "      --disabled-bg-color: #DDD;\n",
              "  }\n",
              "\n",
              "  [theme=dark] .colab-df-quickchart {\n",
              "      --bg-color: #3B4455;\n",
              "      --fill-color: #D2E3FC;\n",
              "      --hover-bg-color: #434B5C;\n",
              "      --hover-fill-color: #FFFFFF;\n",
              "      --disabled-bg-color: #3B4455;\n",
              "      --disabled-fill-color: #666;\n",
              "  }\n",
              "\n",
              "  .colab-df-quickchart {\n",
              "    background-color: var(--bg-color);\n",
              "    border: none;\n",
              "    border-radius: 50%;\n",
              "    cursor: pointer;\n",
              "    display: none;\n",
              "    fill: var(--fill-color);\n",
              "    height: 32px;\n",
              "    padding: 0;\n",
              "    width: 32px;\n",
              "  }\n",
              "\n",
              "  .colab-df-quickchart:hover {\n",
              "    background-color: var(--hover-bg-color);\n",
              "    box-shadow: 0 1px 2px rgba(60, 64, 67, 0.3), 0 1px 3px 1px rgba(60, 64, 67, 0.15);\n",
              "    fill: var(--button-hover-fill-color);\n",
              "  }\n",
              "\n",
              "  .colab-df-quickchart-complete:disabled,\n",
              "  .colab-df-quickchart-complete:disabled:hover {\n",
              "    background-color: var(--disabled-bg-color);\n",
              "    fill: var(--disabled-fill-color);\n",
              "    box-shadow: none;\n",
              "  }\n",
              "\n",
              "  .colab-df-spinner {\n",
              "    border: 2px solid var(--fill-color);\n",
              "    border-color: transparent;\n",
              "    border-bottom-color: var(--fill-color);\n",
              "    animation:\n",
              "      spin 1s steps(1) infinite;\n",
              "  }\n",
              "\n",
              "  @keyframes spin {\n",
              "    0% {\n",
              "      border-color: transparent;\n",
              "      border-bottom-color: var(--fill-color);\n",
              "      border-left-color: var(--fill-color);\n",
              "    }\n",
              "    20% {\n",
              "      border-color: transparent;\n",
              "      border-left-color: var(--fill-color);\n",
              "      border-top-color: var(--fill-color);\n",
              "    }\n",
              "    30% {\n",
              "      border-color: transparent;\n",
              "      border-left-color: var(--fill-color);\n",
              "      border-top-color: var(--fill-color);\n",
              "      border-right-color: var(--fill-color);\n",
              "    }\n",
              "    40% {\n",
              "      border-color: transparent;\n",
              "      border-right-color: var(--fill-color);\n",
              "      border-top-color: var(--fill-color);\n",
              "    }\n",
              "    60% {\n",
              "      border-color: transparent;\n",
              "      border-right-color: var(--fill-color);\n",
              "    }\n",
              "    80% {\n",
              "      border-color: transparent;\n",
              "      border-right-color: var(--fill-color);\n",
              "      border-bottom-color: var(--fill-color);\n",
              "    }\n",
              "    90% {\n",
              "      border-color: transparent;\n",
              "      border-bottom-color: var(--fill-color);\n",
              "    }\n",
              "  }\n",
              "</style>\n",
              "\n",
              "  <script>\n",
              "    async function quickchart(key) {\n",
              "      const quickchartButtonEl =\n",
              "        document.querySelector('#' + key + ' button');\n",
              "      quickchartButtonEl.disabled = true;  // To prevent multiple clicks.\n",
              "      quickchartButtonEl.classList.add('colab-df-spinner');\n",
              "      try {\n",
              "        const charts = await google.colab.kernel.invokeFunction(\n",
              "            'suggestCharts', [key], {});\n",
              "      } catch (error) {\n",
              "        console.error('Error during call to suggestCharts:', error);\n",
              "      }\n",
              "      quickchartButtonEl.classList.remove('colab-df-spinner');\n",
              "      quickchartButtonEl.classList.add('colab-df-quickchart-complete');\n",
              "    }\n",
              "    (() => {\n",
              "      let quickchartButtonEl =\n",
              "        document.querySelector('#df-f61651bf-f60a-4945-b1fd-000c396221ef button');\n",
              "      quickchartButtonEl.style.display =\n",
              "        google.colab.kernel.accessAllowed ? 'block' : 'none';\n",
              "    })();\n",
              "  </script>\n",
              "</div>\n",
              "\n",
              "    </div>\n",
              "  </div>\n"
            ],
            "application/vnd.google.colaboratory.intrinsic+json": {
              "type": "dataframe",
              "variable_name": "gi_df",
              "summary": "{\n  \"name\": \"gi_df\",\n  \"rows\": 4264,\n  \"fields\": [\n    {\n      \"column\": \"DHQ Food Group Code\",\n      \"properties\": {\n        \"dtype\": \"number\",\n        \"std\": 330.68561474387275,\n        \"min\": 5.1,\n        \"max\": 1176.2,\n        \"num_unique_values\": 254,\n        \"samples\": [\n          1015.1,\n          6.1,\n          275.1\n        ],\n        \"semantic_type\": \"\",\n        \"description\": \"\"\n      }\n    },\n    {\n      \"column\": \"DHQ Food Group Name\",\n      \"properties\": {\n        \"dtype\": \"category\",\n        \"num_unique_values\": 254,\n        \"samples\": [\n          \"Other vegetables\",\n          \"Non-dairy crm, powdrd, reg in coffee or tea\",\n          \"Tofu, soy meats\"\n        ],\n        \"semantic_type\": \"\",\n        \"description\": \"\"\n      }\n    },\n    {\n      \"column\": \"CSFII 1994-96 Food Code\",\n      \"properties\": {\n        \"dtype\": \"number\",\n        \"std\": 23687936,\n        \"min\": 11100000,\n        \"max\": 93505000,\n        \"num_unique_values\": 4092,\n        \"samples\": [\n          22311010,\n          25110420,\n          53236100\n        ],\n        \"semantic_type\": \"\",\n        \"description\": \"\"\n      }\n    },\n    {\n      \"column\": \"Food Description in 1994-96 CSFII\",\n      \"properties\": {\n        \"dtype\": \"string\",\n        \"num_unique_values\": 4092,\n        \"samples\": [\n          \"Ham, smoked or cured, cooked, lean and fat eaten\",\n          \"Chicken liver, braised\",\n          \"Cookie, pumpkin\"\n        ],\n        \"semantic_type\": \"\",\n        \"description\": \"\"\n      }\n    },\n    {\n      \"column\": \"GI Value\",\n      \"properties\": {\n        \"dtype\": \"category\",\n        \"num_unique_values\": 202,\n        \"samples\": [\n          \"71.0\",\n          \"53.0\",\n          \"42.0\"\n        ],\n        \"semantic_type\": \"\",\n        \"description\": \"\"\n      }\n    },\n    {\n      \"column\": \"GI Links to:   Foster-Powel K, Holt, SHA, Brand-Miller JC. International table of glycemic index and glycemic load values: 2002. Am J Clin Nutri 2002;76:5-56.\",\n      \"properties\": {\n        \"dtype\": \"category\",\n        \"num_unique_values\": 504,\n        \"samples\": [\n          \"17;BAKERY PRODUCTS;;;Pastry\",\n          \"179;BREAKFAST CEREALS AND RELATED PRODUCTS;;;Fruity-Bix, berry (Sanitarium, Auckland, New Zealand)\",\n          \"548;SNACK FOODS AND CONFECTIONERY;;Fruit bars;Roll-Ups, fruit leather-type snack (Uncle Toby's, Australia)\"\n        ],\n        \"semantic_type\": \"\",\n        \"description\": \"\"\n      }\n    }\n  ]\n}"
            }
          },
          "metadata": {},
          "execution_count": 5
        }
      ]
    },
    {
      "cell_type": "code",
      "source": [
        "nutrient_df.head()"
      ],
      "metadata": {
        "colab": {
          "base_uri": "https://localhost:8080/",
          "height": 333
        },
        "id": "Kmd3iL4tcLWt",
        "outputId": "3d01437a-6da7-46d3-9ce1-3b576df4593b"
      },
      "execution_count": 6,
      "outputs": [
        {
          "output_type": "execute_result",
          "data": {
            "text/plain": [
              "  Category                     Description  Nutrient Data Bank Number  \\\n",
              "0     Milk                     Milk, human                   11000000   \n",
              "1     Milk                       Milk, NFS                   11100000   \n",
              "2     Milk                     Milk, whole                   11111000   \n",
              "3     Milk         Milk, low sodium, whole                   11111100   \n",
              "4     Milk  Milk, calcium fortified, whole                   11111150   \n",
              "\n",
              "   Data.Alpha Carotene  Data.Beta Carotene  Data.Beta Cryptoxanthin  \\\n",
              "0                    0                   7                        0   \n",
              "1                    0                   4                        0   \n",
              "2                    0                   7                        0   \n",
              "3                    0                   7                        0   \n",
              "4                    0                   7                        0   \n",
              "\n",
              "   Data.Carbohydrate  Data.Cholesterol  Data.Choline  Data.Fiber  ...  \\\n",
              "0               6.89                14          16.0         0.0  ...   \n",
              "1               4.87                 8          17.9         0.0  ...   \n",
              "2               4.67                12          17.8         0.0  ...   \n",
              "3               4.46                14          16.0         0.0  ...   \n",
              "4               4.67                12          17.8         0.0  ...   \n",
              "\n",
              "   Data.Major Minerals.Phosphorus  Data.Major Minerals.Potassium  \\\n",
              "0                              14                             51   \n",
              "1                             103                            157   \n",
              "2                             101                            150   \n",
              "3                              86                            253   \n",
              "4                             101                            150   \n",
              "\n",
              "   Data.Major Minerals.Sodium  Data.Major Minerals.Zinc  \\\n",
              "0                          17                      0.17   \n",
              "1                          39                      0.42   \n",
              "2                          38                      0.41   \n",
              "3                           3                      0.38   \n",
              "4                          38                      0.41   \n",
              "\n",
              "   Data.Vitamins.Vitamin A - RAE  Data.Vitamins.Vitamin B12  \\\n",
              "0                             61                       0.05   \n",
              "1                             59                       0.56   \n",
              "2                             32                       0.54   \n",
              "3                             29                       0.36   \n",
              "4                             32                       0.54   \n",
              "\n",
              "   Data.Vitamins.Vitamin B6  Data.Vitamins.Vitamin C  Data.Vitamins.Vitamin E  \\\n",
              "0                     0.011                      5.0                     0.08   \n",
              "1                     0.060                      0.1                     0.03   \n",
              "2                     0.061                      0.0                     0.05   \n",
              "3                     0.034                      0.9                     0.08   \n",
              "4                     0.061                      0.0                     0.05   \n",
              "\n",
              "   Data.Vitamins.Vitamin K  \n",
              "0                      0.3  \n",
              "1                      0.2  \n",
              "2                      0.3  \n",
              "3                      0.3  \n",
              "4                      0.3  \n",
              "\n",
              "[5 rows x 38 columns]"
            ],
            "text/html": [
              "\n",
              "  <div id=\"df-7a9519c4-44f8-408b-925a-e8092729409e\" class=\"colab-df-container\">\n",
              "    <div>\n",
              "<style scoped>\n",
              "    .dataframe tbody tr th:only-of-type {\n",
              "        vertical-align: middle;\n",
              "    }\n",
              "\n",
              "    .dataframe tbody tr th {\n",
              "        vertical-align: top;\n",
              "    }\n",
              "\n",
              "    .dataframe thead th {\n",
              "        text-align: right;\n",
              "    }\n",
              "</style>\n",
              "<table border=\"1\" class=\"dataframe\">\n",
              "  <thead>\n",
              "    <tr style=\"text-align: right;\">\n",
              "      <th></th>\n",
              "      <th>Category</th>\n",
              "      <th>Description</th>\n",
              "      <th>Nutrient Data Bank Number</th>\n",
              "      <th>Data.Alpha Carotene</th>\n",
              "      <th>Data.Beta Carotene</th>\n",
              "      <th>Data.Beta Cryptoxanthin</th>\n",
              "      <th>Data.Carbohydrate</th>\n",
              "      <th>Data.Cholesterol</th>\n",
              "      <th>Data.Choline</th>\n",
              "      <th>Data.Fiber</th>\n",
              "      <th>...</th>\n",
              "      <th>Data.Major Minerals.Phosphorus</th>\n",
              "      <th>Data.Major Minerals.Potassium</th>\n",
              "      <th>Data.Major Minerals.Sodium</th>\n",
              "      <th>Data.Major Minerals.Zinc</th>\n",
              "      <th>Data.Vitamins.Vitamin A - RAE</th>\n",
              "      <th>Data.Vitamins.Vitamin B12</th>\n",
              "      <th>Data.Vitamins.Vitamin B6</th>\n",
              "      <th>Data.Vitamins.Vitamin C</th>\n",
              "      <th>Data.Vitamins.Vitamin E</th>\n",
              "      <th>Data.Vitamins.Vitamin K</th>\n",
              "    </tr>\n",
              "  </thead>\n",
              "  <tbody>\n",
              "    <tr>\n",
              "      <th>0</th>\n",
              "      <td>Milk</td>\n",
              "      <td>Milk, human</td>\n",
              "      <td>11000000</td>\n",
              "      <td>0</td>\n",
              "      <td>7</td>\n",
              "      <td>0</td>\n",
              "      <td>6.89</td>\n",
              "      <td>14</td>\n",
              "      <td>16.0</td>\n",
              "      <td>0.0</td>\n",
              "      <td>...</td>\n",
              "      <td>14</td>\n",
              "      <td>51</td>\n",
              "      <td>17</td>\n",
              "      <td>0.17</td>\n",
              "      <td>61</td>\n",
              "      <td>0.05</td>\n",
              "      <td>0.011</td>\n",
              "      <td>5.0</td>\n",
              "      <td>0.08</td>\n",
              "      <td>0.3</td>\n",
              "    </tr>\n",
              "    <tr>\n",
              "      <th>1</th>\n",
              "      <td>Milk</td>\n",
              "      <td>Milk, NFS</td>\n",
              "      <td>11100000</td>\n",
              "      <td>0</td>\n",
              "      <td>4</td>\n",
              "      <td>0</td>\n",
              "      <td>4.87</td>\n",
              "      <td>8</td>\n",
              "      <td>17.9</td>\n",
              "      <td>0.0</td>\n",
              "      <td>...</td>\n",
              "      <td>103</td>\n",
              "      <td>157</td>\n",
              "      <td>39</td>\n",
              "      <td>0.42</td>\n",
              "      <td>59</td>\n",
              "      <td>0.56</td>\n",
              "      <td>0.060</td>\n",
              "      <td>0.1</td>\n",
              "      <td>0.03</td>\n",
              "      <td>0.2</td>\n",
              "    </tr>\n",
              "    <tr>\n",
              "      <th>2</th>\n",
              "      <td>Milk</td>\n",
              "      <td>Milk, whole</td>\n",
              "      <td>11111000</td>\n",
              "      <td>0</td>\n",
              "      <td>7</td>\n",
              "      <td>0</td>\n",
              "      <td>4.67</td>\n",
              "      <td>12</td>\n",
              "      <td>17.8</td>\n",
              "      <td>0.0</td>\n",
              "      <td>...</td>\n",
              "      <td>101</td>\n",
              "      <td>150</td>\n",
              "      <td>38</td>\n",
              "      <td>0.41</td>\n",
              "      <td>32</td>\n",
              "      <td>0.54</td>\n",
              "      <td>0.061</td>\n",
              "      <td>0.0</td>\n",
              "      <td>0.05</td>\n",
              "      <td>0.3</td>\n",
              "    </tr>\n",
              "    <tr>\n",
              "      <th>3</th>\n",
              "      <td>Milk</td>\n",
              "      <td>Milk, low sodium, whole</td>\n",
              "      <td>11111100</td>\n",
              "      <td>0</td>\n",
              "      <td>7</td>\n",
              "      <td>0</td>\n",
              "      <td>4.46</td>\n",
              "      <td>14</td>\n",
              "      <td>16.0</td>\n",
              "      <td>0.0</td>\n",
              "      <td>...</td>\n",
              "      <td>86</td>\n",
              "      <td>253</td>\n",
              "      <td>3</td>\n",
              "      <td>0.38</td>\n",
              "      <td>29</td>\n",
              "      <td>0.36</td>\n",
              "      <td>0.034</td>\n",
              "      <td>0.9</td>\n",
              "      <td>0.08</td>\n",
              "      <td>0.3</td>\n",
              "    </tr>\n",
              "    <tr>\n",
              "      <th>4</th>\n",
              "      <td>Milk</td>\n",
              "      <td>Milk, calcium fortified, whole</td>\n",
              "      <td>11111150</td>\n",
              "      <td>0</td>\n",
              "      <td>7</td>\n",
              "      <td>0</td>\n",
              "      <td>4.67</td>\n",
              "      <td>12</td>\n",
              "      <td>17.8</td>\n",
              "      <td>0.0</td>\n",
              "      <td>...</td>\n",
              "      <td>101</td>\n",
              "      <td>150</td>\n",
              "      <td>38</td>\n",
              "      <td>0.41</td>\n",
              "      <td>32</td>\n",
              "      <td>0.54</td>\n",
              "      <td>0.061</td>\n",
              "      <td>0.0</td>\n",
              "      <td>0.05</td>\n",
              "      <td>0.3</td>\n",
              "    </tr>\n",
              "  </tbody>\n",
              "</table>\n",
              "<p>5 rows × 38 columns</p>\n",
              "</div>\n",
              "    <div class=\"colab-df-buttons\">\n",
              "\n",
              "  <div class=\"colab-df-container\">\n",
              "    <button class=\"colab-df-convert\" onclick=\"convertToInteractive('df-7a9519c4-44f8-408b-925a-e8092729409e')\"\n",
              "            title=\"Convert this dataframe to an interactive table.\"\n",
              "            style=\"display:none;\">\n",
              "\n",
              "  <svg xmlns=\"http://www.w3.org/2000/svg\" height=\"24px\" viewBox=\"0 -960 960 960\">\n",
              "    <path d=\"M120-120v-720h720v720H120Zm60-500h600v-160H180v160Zm220 220h160v-160H400v160Zm0 220h160v-160H400v160ZM180-400h160v-160H180v160Zm440 0h160v-160H620v160ZM180-180h160v-160H180v160Zm440 0h160v-160H620v160Z\"/>\n",
              "  </svg>\n",
              "    </button>\n",
              "\n",
              "  <style>\n",
              "    .colab-df-container {\n",
              "      display:flex;\n",
              "      gap: 12px;\n",
              "    }\n",
              "\n",
              "    .colab-df-convert {\n",
              "      background-color: #E8F0FE;\n",
              "      border: none;\n",
              "      border-radius: 50%;\n",
              "      cursor: pointer;\n",
              "      display: none;\n",
              "      fill: #1967D2;\n",
              "      height: 32px;\n",
              "      padding: 0 0 0 0;\n",
              "      width: 32px;\n",
              "    }\n",
              "\n",
              "    .colab-df-convert:hover {\n",
              "      background-color: #E2EBFA;\n",
              "      box-shadow: 0px 1px 2px rgba(60, 64, 67, 0.3), 0px 1px 3px 1px rgba(60, 64, 67, 0.15);\n",
              "      fill: #174EA6;\n",
              "    }\n",
              "\n",
              "    .colab-df-buttons div {\n",
              "      margin-bottom: 4px;\n",
              "    }\n",
              "\n",
              "    [theme=dark] .colab-df-convert {\n",
              "      background-color: #3B4455;\n",
              "      fill: #D2E3FC;\n",
              "    }\n",
              "\n",
              "    [theme=dark] .colab-df-convert:hover {\n",
              "      background-color: #434B5C;\n",
              "      box-shadow: 0px 1px 3px 1px rgba(0, 0, 0, 0.15);\n",
              "      filter: drop-shadow(0px 1px 2px rgba(0, 0, 0, 0.3));\n",
              "      fill: #FFFFFF;\n",
              "    }\n",
              "  </style>\n",
              "\n",
              "    <script>\n",
              "      const buttonEl =\n",
              "        document.querySelector('#df-7a9519c4-44f8-408b-925a-e8092729409e button.colab-df-convert');\n",
              "      buttonEl.style.display =\n",
              "        google.colab.kernel.accessAllowed ? 'block' : 'none';\n",
              "\n",
              "      async function convertToInteractive(key) {\n",
              "        const element = document.querySelector('#df-7a9519c4-44f8-408b-925a-e8092729409e');\n",
              "        const dataTable =\n",
              "          await google.colab.kernel.invokeFunction('convertToInteractive',\n",
              "                                                    [key], {});\n",
              "        if (!dataTable) return;\n",
              "\n",
              "        const docLinkHtml = 'Like what you see? Visit the ' +\n",
              "          '<a target=\"_blank\" href=https://colab.research.google.com/notebooks/data_table.ipynb>data table notebook</a>'\n",
              "          + ' to learn more about interactive tables.';\n",
              "        element.innerHTML = '';\n",
              "        dataTable['output_type'] = 'display_data';\n",
              "        await google.colab.output.renderOutput(dataTable, element);\n",
              "        const docLink = document.createElement('div');\n",
              "        docLink.innerHTML = docLinkHtml;\n",
              "        element.appendChild(docLink);\n",
              "      }\n",
              "    </script>\n",
              "  </div>\n",
              "\n",
              "\n",
              "<div id=\"df-a3a2b087-6047-4169-99f3-2a139bec27fa\">\n",
              "  <button class=\"colab-df-quickchart\" onclick=\"quickchart('df-a3a2b087-6047-4169-99f3-2a139bec27fa')\"\n",
              "            title=\"Suggest charts\"\n",
              "            style=\"display:none;\">\n",
              "\n",
              "<svg xmlns=\"http://www.w3.org/2000/svg\" height=\"24px\"viewBox=\"0 0 24 24\"\n",
              "     width=\"24px\">\n",
              "    <g>\n",
              "        <path d=\"M19 3H5c-1.1 0-2 .9-2 2v14c0 1.1.9 2 2 2h14c1.1 0 2-.9 2-2V5c0-1.1-.9-2-2-2zM9 17H7v-7h2v7zm4 0h-2V7h2v10zm4 0h-2v-4h2v4z\"/>\n",
              "    </g>\n",
              "</svg>\n",
              "  </button>\n",
              "\n",
              "<style>\n",
              "  .colab-df-quickchart {\n",
              "      --bg-color: #E8F0FE;\n",
              "      --fill-color: #1967D2;\n",
              "      --hover-bg-color: #E2EBFA;\n",
              "      --hover-fill-color: #174EA6;\n",
              "      --disabled-fill-color: #AAA;\n",
              "      --disabled-bg-color: #DDD;\n",
              "  }\n",
              "\n",
              "  [theme=dark] .colab-df-quickchart {\n",
              "      --bg-color: #3B4455;\n",
              "      --fill-color: #D2E3FC;\n",
              "      --hover-bg-color: #434B5C;\n",
              "      --hover-fill-color: #FFFFFF;\n",
              "      --disabled-bg-color: #3B4455;\n",
              "      --disabled-fill-color: #666;\n",
              "  }\n",
              "\n",
              "  .colab-df-quickchart {\n",
              "    background-color: var(--bg-color);\n",
              "    border: none;\n",
              "    border-radius: 50%;\n",
              "    cursor: pointer;\n",
              "    display: none;\n",
              "    fill: var(--fill-color);\n",
              "    height: 32px;\n",
              "    padding: 0;\n",
              "    width: 32px;\n",
              "  }\n",
              "\n",
              "  .colab-df-quickchart:hover {\n",
              "    background-color: var(--hover-bg-color);\n",
              "    box-shadow: 0 1px 2px rgba(60, 64, 67, 0.3), 0 1px 3px 1px rgba(60, 64, 67, 0.15);\n",
              "    fill: var(--button-hover-fill-color);\n",
              "  }\n",
              "\n",
              "  .colab-df-quickchart-complete:disabled,\n",
              "  .colab-df-quickchart-complete:disabled:hover {\n",
              "    background-color: var(--disabled-bg-color);\n",
              "    fill: var(--disabled-fill-color);\n",
              "    box-shadow: none;\n",
              "  }\n",
              "\n",
              "  .colab-df-spinner {\n",
              "    border: 2px solid var(--fill-color);\n",
              "    border-color: transparent;\n",
              "    border-bottom-color: var(--fill-color);\n",
              "    animation:\n",
              "      spin 1s steps(1) infinite;\n",
              "  }\n",
              "\n",
              "  @keyframes spin {\n",
              "    0% {\n",
              "      border-color: transparent;\n",
              "      border-bottom-color: var(--fill-color);\n",
              "      border-left-color: var(--fill-color);\n",
              "    }\n",
              "    20% {\n",
              "      border-color: transparent;\n",
              "      border-left-color: var(--fill-color);\n",
              "      border-top-color: var(--fill-color);\n",
              "    }\n",
              "    30% {\n",
              "      border-color: transparent;\n",
              "      border-left-color: var(--fill-color);\n",
              "      border-top-color: var(--fill-color);\n",
              "      border-right-color: var(--fill-color);\n",
              "    }\n",
              "    40% {\n",
              "      border-color: transparent;\n",
              "      border-right-color: var(--fill-color);\n",
              "      border-top-color: var(--fill-color);\n",
              "    }\n",
              "    60% {\n",
              "      border-color: transparent;\n",
              "      border-right-color: var(--fill-color);\n",
              "    }\n",
              "    80% {\n",
              "      border-color: transparent;\n",
              "      border-right-color: var(--fill-color);\n",
              "      border-bottom-color: var(--fill-color);\n",
              "    }\n",
              "    90% {\n",
              "      border-color: transparent;\n",
              "      border-bottom-color: var(--fill-color);\n",
              "    }\n",
              "  }\n",
              "</style>\n",
              "\n",
              "  <script>\n",
              "    async function quickchart(key) {\n",
              "      const quickchartButtonEl =\n",
              "        document.querySelector('#' + key + ' button');\n",
              "      quickchartButtonEl.disabled = true;  // To prevent multiple clicks.\n",
              "      quickchartButtonEl.classList.add('colab-df-spinner');\n",
              "      try {\n",
              "        const charts = await google.colab.kernel.invokeFunction(\n",
              "            'suggestCharts', [key], {});\n",
              "      } catch (error) {\n",
              "        console.error('Error during call to suggestCharts:', error);\n",
              "      }\n",
              "      quickchartButtonEl.classList.remove('colab-df-spinner');\n",
              "      quickchartButtonEl.classList.add('colab-df-quickchart-complete');\n",
              "    }\n",
              "    (() => {\n",
              "      let quickchartButtonEl =\n",
              "        document.querySelector('#df-a3a2b087-6047-4169-99f3-2a139bec27fa button');\n",
              "      quickchartButtonEl.style.display =\n",
              "        google.colab.kernel.accessAllowed ? 'block' : 'none';\n",
              "    })();\n",
              "  </script>\n",
              "</div>\n",
              "\n",
              "    </div>\n",
              "  </div>\n"
            ],
            "application/vnd.google.colaboratory.intrinsic+json": {
              "type": "dataframe",
              "variable_name": "nutrient_df"
            }
          },
          "metadata": {},
          "execution_count": 6
        }
      ]
    },
    {
      "cell_type": "code",
      "source": [
        "oxalate_gi_df.head()"
      ],
      "metadata": {
        "colab": {
          "base_uri": "https://localhost:8080/",
          "height": 535
        },
        "id": "sqQPytl4O7-C",
        "outputId": "3bc60399-8867-4e6c-93ef-d92eaf1dd38f"
      },
      "execution_count": 7,
      "outputs": [
        {
          "output_type": "execute_result",
          "data": {
            "text/plain": [
              "  Food Group      Subgroup   Food Item Serving size Oxalate Category  \\\n",
              "0     Fruits  Whole Fruits    Avocados      1 fruit        Very High   \n",
              "1     Fruits  Whole Fruits       Dates       1 date        Very High   \n",
              "2     Fruits  Whole Fruits  Grapefruit    1/2 fruit        Very High   \n",
              "3     Fruits  Whole Fruits        Kiwi      1 fruit        Very High   \n",
              "4     Fruits  Whole Fruits      Orange      1 fruit        Very High   \n",
              "\n",
              "   Oxalate Value  CSFII 1994-96 Food Code Food Description in 1994-96 CSFII  \\\n",
              "0             19               63105010.0                      Avocado, raw   \n",
              "1             24               62110100.0                              Date   \n",
              "2             12               61101010.0                   Grapefruit, raw   \n",
              "3             16               63126500.0                   Kiwi fruit, raw   \n",
              "4             29               61119010.0                       Orange, raw   \n",
              "\n",
              "  GI Value  \\\n",
              "0     50.0   \n",
              "1    103.0   \n",
              "2     25.0   \n",
              "3     53.0   \n",
              "4     42.0   \n",
              "\n",
              "  GI Links to:   Foster-Powel K, Holt, SHA, Brand-Miller JC. International table of glycemic index and glycemic load values: 2002. Am J Clin Nutri 2002;76:5-56.  \\\n",
              "0  1008;IMPUTED VALUES;Food, NFS;With carbohydrat...                                                                                                               \n",
              "1  404;FRUIT AND FRUIT PRODUCTS;;;Dates, dried (A...                                                                                                               \n",
              "2  407;FRUIT AND FRUIT PRODUCTS;;;Grapefruit, raw...                                                                                                               \n",
              "3  410;FRUIT AND FRUIT PRODUCTS;;Kiwi fruit, raw;...                                                                                                               \n",
              "4  415;FRUIT AND FRUIT PRODUCTS;;Oranges, raw;Mea...                                                                                                               \n",
              "\n",
              "   Unnamed: 10  Unnamed: 11  \n",
              "0          NaN          NaN  \n",
              "1          NaN          NaN  \n",
              "2          NaN          NaN  \n",
              "3          NaN          NaN  \n",
              "4          NaN          NaN  "
            ],
            "text/html": [
              "\n",
              "  <div id=\"df-1c0e283f-8402-4531-a218-05e5eee32b45\" class=\"colab-df-container\">\n",
              "    <div>\n",
              "<style scoped>\n",
              "    .dataframe tbody tr th:only-of-type {\n",
              "        vertical-align: middle;\n",
              "    }\n",
              "\n",
              "    .dataframe tbody tr th {\n",
              "        vertical-align: top;\n",
              "    }\n",
              "\n",
              "    .dataframe thead th {\n",
              "        text-align: right;\n",
              "    }\n",
              "</style>\n",
              "<table border=\"1\" class=\"dataframe\">\n",
              "  <thead>\n",
              "    <tr style=\"text-align: right;\">\n",
              "      <th></th>\n",
              "      <th>Food Group</th>\n",
              "      <th>Subgroup</th>\n",
              "      <th>Food Item</th>\n",
              "      <th>Serving size</th>\n",
              "      <th>Oxalate Category</th>\n",
              "      <th>Oxalate Value</th>\n",
              "      <th>CSFII 1994-96 Food Code</th>\n",
              "      <th>Food Description in 1994-96 CSFII</th>\n",
              "      <th>GI Value</th>\n",
              "      <th>GI Links to:   Foster-Powel K, Holt, SHA, Brand-Miller JC. International table of glycemic index and glycemic load values: 2002. Am J Clin Nutri 2002;76:5-56.</th>\n",
              "      <th>Unnamed: 10</th>\n",
              "      <th>Unnamed: 11</th>\n",
              "    </tr>\n",
              "  </thead>\n",
              "  <tbody>\n",
              "    <tr>\n",
              "      <th>0</th>\n",
              "      <td>Fruits</td>\n",
              "      <td>Whole Fruits</td>\n",
              "      <td>Avocados</td>\n",
              "      <td>1 fruit</td>\n",
              "      <td>Very High</td>\n",
              "      <td>19</td>\n",
              "      <td>63105010.0</td>\n",
              "      <td>Avocado, raw</td>\n",
              "      <td>50.0</td>\n",
              "      <td>1008;IMPUTED VALUES;Food, NFS;With carbohydrat...</td>\n",
              "      <td>NaN</td>\n",
              "      <td>NaN</td>\n",
              "    </tr>\n",
              "    <tr>\n",
              "      <th>1</th>\n",
              "      <td>Fruits</td>\n",
              "      <td>Whole Fruits</td>\n",
              "      <td>Dates</td>\n",
              "      <td>1 date</td>\n",
              "      <td>Very High</td>\n",
              "      <td>24</td>\n",
              "      <td>62110100.0</td>\n",
              "      <td>Date</td>\n",
              "      <td>103.0</td>\n",
              "      <td>404;FRUIT AND FRUIT PRODUCTS;;;Dates, dried (A...</td>\n",
              "      <td>NaN</td>\n",
              "      <td>NaN</td>\n",
              "    </tr>\n",
              "    <tr>\n",
              "      <th>2</th>\n",
              "      <td>Fruits</td>\n",
              "      <td>Whole Fruits</td>\n",
              "      <td>Grapefruit</td>\n",
              "      <td>1/2 fruit</td>\n",
              "      <td>Very High</td>\n",
              "      <td>12</td>\n",
              "      <td>61101010.0</td>\n",
              "      <td>Grapefruit, raw</td>\n",
              "      <td>25.0</td>\n",
              "      <td>407;FRUIT AND FRUIT PRODUCTS;;;Grapefruit, raw...</td>\n",
              "      <td>NaN</td>\n",
              "      <td>NaN</td>\n",
              "    </tr>\n",
              "    <tr>\n",
              "      <th>3</th>\n",
              "      <td>Fruits</td>\n",
              "      <td>Whole Fruits</td>\n",
              "      <td>Kiwi</td>\n",
              "      <td>1 fruit</td>\n",
              "      <td>Very High</td>\n",
              "      <td>16</td>\n",
              "      <td>63126500.0</td>\n",
              "      <td>Kiwi fruit, raw</td>\n",
              "      <td>53.0</td>\n",
              "      <td>410;FRUIT AND FRUIT PRODUCTS;;Kiwi fruit, raw;...</td>\n",
              "      <td>NaN</td>\n",
              "      <td>NaN</td>\n",
              "    </tr>\n",
              "    <tr>\n",
              "      <th>4</th>\n",
              "      <td>Fruits</td>\n",
              "      <td>Whole Fruits</td>\n",
              "      <td>Orange</td>\n",
              "      <td>1 fruit</td>\n",
              "      <td>Very High</td>\n",
              "      <td>29</td>\n",
              "      <td>61119010.0</td>\n",
              "      <td>Orange, raw</td>\n",
              "      <td>42.0</td>\n",
              "      <td>415;FRUIT AND FRUIT PRODUCTS;;Oranges, raw;Mea...</td>\n",
              "      <td>NaN</td>\n",
              "      <td>NaN</td>\n",
              "    </tr>\n",
              "  </tbody>\n",
              "</table>\n",
              "</div>\n",
              "    <div class=\"colab-df-buttons\">\n",
              "\n",
              "  <div class=\"colab-df-container\">\n",
              "    <button class=\"colab-df-convert\" onclick=\"convertToInteractive('df-1c0e283f-8402-4531-a218-05e5eee32b45')\"\n",
              "            title=\"Convert this dataframe to an interactive table.\"\n",
              "            style=\"display:none;\">\n",
              "\n",
              "  <svg xmlns=\"http://www.w3.org/2000/svg\" height=\"24px\" viewBox=\"0 -960 960 960\">\n",
              "    <path d=\"M120-120v-720h720v720H120Zm60-500h600v-160H180v160Zm220 220h160v-160H400v160Zm0 220h160v-160H400v160ZM180-400h160v-160H180v160Zm440 0h160v-160H620v160ZM180-180h160v-160H180v160Zm440 0h160v-160H620v160Z\"/>\n",
              "  </svg>\n",
              "    </button>\n",
              "\n",
              "  <style>\n",
              "    .colab-df-container {\n",
              "      display:flex;\n",
              "      gap: 12px;\n",
              "    }\n",
              "\n",
              "    .colab-df-convert {\n",
              "      background-color: #E8F0FE;\n",
              "      border: none;\n",
              "      border-radius: 50%;\n",
              "      cursor: pointer;\n",
              "      display: none;\n",
              "      fill: #1967D2;\n",
              "      height: 32px;\n",
              "      padding: 0 0 0 0;\n",
              "      width: 32px;\n",
              "    }\n",
              "\n",
              "    .colab-df-convert:hover {\n",
              "      background-color: #E2EBFA;\n",
              "      box-shadow: 0px 1px 2px rgba(60, 64, 67, 0.3), 0px 1px 3px 1px rgba(60, 64, 67, 0.15);\n",
              "      fill: #174EA6;\n",
              "    }\n",
              "\n",
              "    .colab-df-buttons div {\n",
              "      margin-bottom: 4px;\n",
              "    }\n",
              "\n",
              "    [theme=dark] .colab-df-convert {\n",
              "      background-color: #3B4455;\n",
              "      fill: #D2E3FC;\n",
              "    }\n",
              "\n",
              "    [theme=dark] .colab-df-convert:hover {\n",
              "      background-color: #434B5C;\n",
              "      box-shadow: 0px 1px 3px 1px rgba(0, 0, 0, 0.15);\n",
              "      filter: drop-shadow(0px 1px 2px rgba(0, 0, 0, 0.3));\n",
              "      fill: #FFFFFF;\n",
              "    }\n",
              "  </style>\n",
              "\n",
              "    <script>\n",
              "      const buttonEl =\n",
              "        document.querySelector('#df-1c0e283f-8402-4531-a218-05e5eee32b45 button.colab-df-convert');\n",
              "      buttonEl.style.display =\n",
              "        google.colab.kernel.accessAllowed ? 'block' : 'none';\n",
              "\n",
              "      async function convertToInteractive(key) {\n",
              "        const element = document.querySelector('#df-1c0e283f-8402-4531-a218-05e5eee32b45');\n",
              "        const dataTable =\n",
              "          await google.colab.kernel.invokeFunction('convertToInteractive',\n",
              "                                                    [key], {});\n",
              "        if (!dataTable) return;\n",
              "\n",
              "        const docLinkHtml = 'Like what you see? Visit the ' +\n",
              "          '<a target=\"_blank\" href=https://colab.research.google.com/notebooks/data_table.ipynb>data table notebook</a>'\n",
              "          + ' to learn more about interactive tables.';\n",
              "        element.innerHTML = '';\n",
              "        dataTable['output_type'] = 'display_data';\n",
              "        await google.colab.output.renderOutput(dataTable, element);\n",
              "        const docLink = document.createElement('div');\n",
              "        docLink.innerHTML = docLinkHtml;\n",
              "        element.appendChild(docLink);\n",
              "      }\n",
              "    </script>\n",
              "  </div>\n",
              "\n",
              "\n",
              "<div id=\"df-b3e68c8d-1be9-4d03-9651-f2174dc25761\">\n",
              "  <button class=\"colab-df-quickchart\" onclick=\"quickchart('df-b3e68c8d-1be9-4d03-9651-f2174dc25761')\"\n",
              "            title=\"Suggest charts\"\n",
              "            style=\"display:none;\">\n",
              "\n",
              "<svg xmlns=\"http://www.w3.org/2000/svg\" height=\"24px\"viewBox=\"0 0 24 24\"\n",
              "     width=\"24px\">\n",
              "    <g>\n",
              "        <path d=\"M19 3H5c-1.1 0-2 .9-2 2v14c0 1.1.9 2 2 2h14c1.1 0 2-.9 2-2V5c0-1.1-.9-2-2-2zM9 17H7v-7h2v7zm4 0h-2V7h2v10zm4 0h-2v-4h2v4z\"/>\n",
              "    </g>\n",
              "</svg>\n",
              "  </button>\n",
              "\n",
              "<style>\n",
              "  .colab-df-quickchart {\n",
              "      --bg-color: #E8F0FE;\n",
              "      --fill-color: #1967D2;\n",
              "      --hover-bg-color: #E2EBFA;\n",
              "      --hover-fill-color: #174EA6;\n",
              "      --disabled-fill-color: #AAA;\n",
              "      --disabled-bg-color: #DDD;\n",
              "  }\n",
              "\n",
              "  [theme=dark] .colab-df-quickchart {\n",
              "      --bg-color: #3B4455;\n",
              "      --fill-color: #D2E3FC;\n",
              "      --hover-bg-color: #434B5C;\n",
              "      --hover-fill-color: #FFFFFF;\n",
              "      --disabled-bg-color: #3B4455;\n",
              "      --disabled-fill-color: #666;\n",
              "  }\n",
              "\n",
              "  .colab-df-quickchart {\n",
              "    background-color: var(--bg-color);\n",
              "    border: none;\n",
              "    border-radius: 50%;\n",
              "    cursor: pointer;\n",
              "    display: none;\n",
              "    fill: var(--fill-color);\n",
              "    height: 32px;\n",
              "    padding: 0;\n",
              "    width: 32px;\n",
              "  }\n",
              "\n",
              "  .colab-df-quickchart:hover {\n",
              "    background-color: var(--hover-bg-color);\n",
              "    box-shadow: 0 1px 2px rgba(60, 64, 67, 0.3), 0 1px 3px 1px rgba(60, 64, 67, 0.15);\n",
              "    fill: var(--button-hover-fill-color);\n",
              "  }\n",
              "\n",
              "  .colab-df-quickchart-complete:disabled,\n",
              "  .colab-df-quickchart-complete:disabled:hover {\n",
              "    background-color: var(--disabled-bg-color);\n",
              "    fill: var(--disabled-fill-color);\n",
              "    box-shadow: none;\n",
              "  }\n",
              "\n",
              "  .colab-df-spinner {\n",
              "    border: 2px solid var(--fill-color);\n",
              "    border-color: transparent;\n",
              "    border-bottom-color: var(--fill-color);\n",
              "    animation:\n",
              "      spin 1s steps(1) infinite;\n",
              "  }\n",
              "\n",
              "  @keyframes spin {\n",
              "    0% {\n",
              "      border-color: transparent;\n",
              "      border-bottom-color: var(--fill-color);\n",
              "      border-left-color: var(--fill-color);\n",
              "    }\n",
              "    20% {\n",
              "      border-color: transparent;\n",
              "      border-left-color: var(--fill-color);\n",
              "      border-top-color: var(--fill-color);\n",
              "    }\n",
              "    30% {\n",
              "      border-color: transparent;\n",
              "      border-left-color: var(--fill-color);\n",
              "      border-top-color: var(--fill-color);\n",
              "      border-right-color: var(--fill-color);\n",
              "    }\n",
              "    40% {\n",
              "      border-color: transparent;\n",
              "      border-right-color: var(--fill-color);\n",
              "      border-top-color: var(--fill-color);\n",
              "    }\n",
              "    60% {\n",
              "      border-color: transparent;\n",
              "      border-right-color: var(--fill-color);\n",
              "    }\n",
              "    80% {\n",
              "      border-color: transparent;\n",
              "      border-right-color: var(--fill-color);\n",
              "      border-bottom-color: var(--fill-color);\n",
              "    }\n",
              "    90% {\n",
              "      border-color: transparent;\n",
              "      border-bottom-color: var(--fill-color);\n",
              "    }\n",
              "  }\n",
              "</style>\n",
              "\n",
              "  <script>\n",
              "    async function quickchart(key) {\n",
              "      const quickchartButtonEl =\n",
              "        document.querySelector('#' + key + ' button');\n",
              "      quickchartButtonEl.disabled = true;  // To prevent multiple clicks.\n",
              "      quickchartButtonEl.classList.add('colab-df-spinner');\n",
              "      try {\n",
              "        const charts = await google.colab.kernel.invokeFunction(\n",
              "            'suggestCharts', [key], {});\n",
              "      } catch (error) {\n",
              "        console.error('Error during call to suggestCharts:', error);\n",
              "      }\n",
              "      quickchartButtonEl.classList.remove('colab-df-spinner');\n",
              "      quickchartButtonEl.classList.add('colab-df-quickchart-complete');\n",
              "    }\n",
              "    (() => {\n",
              "      let quickchartButtonEl =\n",
              "        document.querySelector('#df-b3e68c8d-1be9-4d03-9651-f2174dc25761 button');\n",
              "      quickchartButtonEl.style.display =\n",
              "        google.colab.kernel.accessAllowed ? 'block' : 'none';\n",
              "    })();\n",
              "  </script>\n",
              "</div>\n",
              "\n",
              "    </div>\n",
              "  </div>\n"
            ],
            "application/vnd.google.colaboratory.intrinsic+json": {
              "type": "dataframe",
              "variable_name": "oxalate_gi_df",
              "summary": "{\n  \"name\": \"oxalate_gi_df\",\n  \"rows\": 597,\n  \"fields\": [\n    {\n      \"column\": \"Food Group\",\n      \"properties\": {\n        \"dtype\": \"category\",\n        \"num_unique_values\": 16,\n        \"samples\": [\n          \"Fruits\",\n          \"Vegetables\",\n          \"Nuts and Seeds\"\n        ],\n        \"semantic_type\": \"\",\n        \"description\": \"\"\n      }\n    },\n    {\n      \"column\": \"Subgroup\",\n      \"properties\": {\n        \"dtype\": \"category\",\n        \"num_unique_values\": 33,\n        \"samples\": [\n          \"Quaker\",\n          \"Meat & Meat Alternatives\",\n          \"Soups\"\n        ],\n        \"semantic_type\": \"\",\n        \"description\": \"\"\n      }\n    },\n    {\n      \"column\": \"Food Item\",\n      \"properties\": {\n        \"dtype\": \"string\",\n        \"num_unique_values\": 501,\n        \"samples\": [\n          \"Chili with Beans\",\n          \"Kale\",\n          \"Chicken Roll\"\n        ],\n        \"semantic_type\": \"\",\n        \"description\": \"\"\n      }\n    },\n    {\n      \"column\": \"Serving size\",\n      \"properties\": {\n        \"dtype\": \"category\",\n        \"num_unique_values\": 127,\n        \"samples\": [\n          \"1 stalk\",\n          \"1 eggroll\",\n          \"1 pop\"\n        ],\n        \"semantic_type\": \"\",\n        \"description\": \"\"\n      }\n    },\n    {\n      \"column\": \"Oxalate Category\",\n      \"properties\": {\n        \"dtype\": \"category\",\n        \"num_unique_values\": 6,\n        \"samples\": [\n          \"Very High\",\n          \"High\",\n          \"Little or None\"\n        ],\n        \"semantic_type\": \"\",\n        \"description\": \"\"\n      }\n    },\n    {\n      \"column\": \"Oxalate Value\",\n      \"properties\": {\n        \"dtype\": \"number\",\n        \"std\": 50,\n        \"min\": 0,\n        \"max\": 755,\n        \"num_unique_values\": 65,\n        \"samples\": [\n          111,\n          25,\n          19\n        ],\n        \"semantic_type\": \"\",\n        \"description\": \"\"\n      }\n    },\n    {\n      \"column\": \"CSFII 1994-96 Food Code\",\n      \"properties\": {\n        \"dtype\": \"number\",\n        \"std\": 23297246.296340615,\n        \"min\": 11111000.0,\n        \"max\": 93402000.0,\n        \"num_unique_values\": 328,\n        \"samples\": [\n          26121180.0,\n          12310370.0,\n          42114100.0\n        ],\n        \"semantic_type\": \"\",\n        \"description\": \"\"\n      }\n    },\n    {\n      \"column\": \"Food Description in 1994-96 CSFII\",\n      \"properties\": {\n        \"dtype\": \"string\",\n        \"num_unique_values\": 328,\n        \"samples\": [\n          \"Mackerel, canned\",\n          \"Sour cream, fat free\",\n          \"Pistachio nuts, roasted, salted\"\n        ],\n        \"semantic_type\": \"\",\n        \"description\": \"\"\n      }\n    },\n    {\n      \"column\": \"GI Value\",\n      \"properties\": {\n        \"dtype\": \"category\",\n        \"num_unique_values\": 81,\n        \"samples\": [\n          \"48.0\",\n          \"50.0\",\n          \"32.0\"\n        ],\n        \"semantic_type\": \"\",\n        \"description\": \"\"\n      }\n    },\n    {\n      \"column\": \"GI Links to:   Foster-Powel K, Holt, SHA, Brand-Miller JC. International table of glycemic index and glycemic load values: 2002. Am J Clin Nutri 2002;76:5-56.\",\n      \"properties\": {\n        \"dtype\": \"category\",\n        \"num_unique_values\": 148,\n        \"samples\": [\n          \"560;SNACK FOODS AND CONFECTIONERY;;Popcorn;Mean of 2 studies\",\n          \"369;DAIRY PRODUCTS AND ALTERNATIVES;;Milk, full-fat;Mean of 5 studies\",\n          \"220;BREAKFAST CEREALS AND RELATED PRODUCTS;;;Raisin Bran (Kellogg's, USA)\"\n        ],\n        \"semantic_type\": \"\",\n        \"description\": \"\"\n      }\n    },\n    {\n      \"column\": \"Unnamed: 10\",\n      \"properties\": {\n        \"dtype\": \"number\",\n        \"std\": null,\n        \"min\": null,\n        \"max\": null,\n        \"num_unique_values\": 0,\n        \"samples\": [],\n        \"semantic_type\": \"\",\n        \"description\": \"\"\n      }\n    },\n    {\n      \"column\": \"Unnamed: 11\",\n      \"properties\": {\n        \"dtype\": \"number\",\n        \"std\": null,\n        \"min\": null,\n        \"max\": null,\n        \"num_unique_values\": 0,\n        \"samples\": [],\n        \"semantic_type\": \"\",\n        \"description\": \"\"\n      }\n    }\n  ]\n}"
            }
          },
          "metadata": {},
          "execution_count": 7
        }
      ]
    },
    {
      "cell_type": "markdown",
      "source": [
        "# GI / Nutrient Merge"
      ],
      "metadata": {
        "id": "c-4Sivz0Y2Go"
      }
    },
    {
      "cell_type": "markdown",
      "source": [
        "After analyzing the data in Excel, I found that CSFII 1994-96 Food Code and Nutrient Data Bank Number contain the same unique code for each food.  This will allow me to combine these datasets using this unique value."
      ],
      "metadata": {
        "id": "AIcJFpOxQDph"
      }
    },
    {
      "cell_type": "code",
      "source": [
        "gi_nutrient_df = pd.merge(gi_df, nutrient_df,\n",
        "                           left_on='CSFII 1994-96 Food Code',\n",
        "                           right_on='Nutrient Data Bank Number',\n",
        "                           how='inner')"
      ],
      "metadata": {
        "id": "VbtuNj5BcOIl"
      },
      "execution_count": 8,
      "outputs": []
    },
    {
      "cell_type": "code",
      "source": [
        "gi_nutrient_df['GI Value'] = pd.to_numeric(gi_nutrient_df['GI Value'], errors='coerce')"
      ],
      "metadata": {
        "id": "AcCDWmJSZV5O"
      },
      "execution_count": 9,
      "outputs": []
    },
    {
      "cell_type": "code",
      "source": [
        "gi_nutrient_df.dtypes"
      ],
      "metadata": {
        "colab": {
          "base_uri": "https://localhost:8080/"
        },
        "id": "XfGYcVFgZhGb",
        "outputId": "4bce000f-bb7f-435b-abfd-d8866c22acf7"
      },
      "execution_count": 10,
      "outputs": [
        {
          "output_type": "execute_result",
          "data": {
            "text/plain": [
              "DHQ Food Group Code                                                                                                                                               float64\n",
              "DHQ Food Group Name                                                                                                                                                object\n",
              "CSFII 1994-96 Food Code                                                                                                                                             int64\n",
              "Food Description in 1994-96 CSFII                                                                                                                                  object\n",
              "GI Value                                                                                                                                                          float64\n",
              "GI Links to:   Foster-Powel K, Holt, SHA, Brand-Miller JC. International table of glycemic index and glycemic load values: 2002. Am J Clin Nutri 2002;76:5-56.     object\n",
              "Category                                                                                                                                                           object\n",
              "Description                                                                                                                                                        object\n",
              "Nutrient Data Bank Number                                                                                                                                           int64\n",
              "Data.Alpha Carotene                                                                                                                                                 int64\n",
              "Data.Beta Carotene                                                                                                                                                  int64\n",
              "Data.Beta Cryptoxanthin                                                                                                                                             int64\n",
              "Data.Carbohydrate                                                                                                                                                 float64\n",
              "Data.Cholesterol                                                                                                                                                    int64\n",
              "Data.Choline                                                                                                                                                      float64\n",
              "Data.Fiber                                                                                                                                                        float64\n",
              "Data.Lutein and Zeaxanthin                                                                                                                                          int64\n",
              "Data.Lycopene                                                                                                                                                       int64\n",
              "Data.Niacin                                                                                                                                                       float64\n",
              "Data.Protein                                                                                                                                                      float64\n",
              "Data.Retinol                                                                                                                                                        int64\n",
              "Data.Riboflavin                                                                                                                                                   float64\n",
              "Data.Selenium                                                                                                                                                     float64\n",
              "Data.Sugar Total                                                                                                                                                  float64\n",
              "Data.Thiamin                                                                                                                                                      float64\n",
              "Data.Water                                                                                                                                                        float64\n",
              "Data.Fat.Monosaturated Fat                                                                                                                                        float64\n",
              "Data.Fat.Polysaturated Fat                                                                                                                                        float64\n",
              "Data.Fat.Saturated Fat                                                                                                                                            float64\n",
              "Data.Fat.Total Lipid                                                                                                                                              float64\n",
              "Data.Major Minerals.Calcium                                                                                                                                         int64\n",
              "Data.Major Minerals.Copper                                                                                                                                        float64\n",
              "Data.Major Minerals.Iron                                                                                                                                          float64\n",
              "Data.Major Minerals.Magnesium                                                                                                                                       int64\n",
              "Data.Major Minerals.Phosphorus                                                                                                                                      int64\n",
              "Data.Major Minerals.Potassium                                                                                                                                       int64\n",
              "Data.Major Minerals.Sodium                                                                                                                                          int64\n",
              "Data.Major Minerals.Zinc                                                                                                                                          float64\n",
              "Data.Vitamins.Vitamin A - RAE                                                                                                                                       int64\n",
              "Data.Vitamins.Vitamin B12                                                                                                                                         float64\n",
              "Data.Vitamins.Vitamin B6                                                                                                                                          float64\n",
              "Data.Vitamins.Vitamin C                                                                                                                                           float64\n",
              "Data.Vitamins.Vitamin E                                                                                                                                           float64\n",
              "Data.Vitamins.Vitamin K                                                                                                                                           float64\n",
              "dtype: object"
            ]
          },
          "metadata": {},
          "execution_count": 10
        }
      ]
    },
    {
      "cell_type": "markdown",
      "source": [
        "I'll go ahead and clean my data here so the dataset is ready to use after export."
      ],
      "metadata": {
        "id": "fixFzI3PQWQ8"
      }
    },
    {
      "cell_type": "code",
      "source": [
        "gi_nutrient_df.dropna(subset=['GI Value'], inplace=True)"
      ],
      "metadata": {
        "id": "NwvLdvPPZXJO"
      },
      "execution_count": 11,
      "outputs": []
    },
    {
      "cell_type": "markdown",
      "source": [
        "Some entries contained the string \"null\" rather than a NaN values.  The code below corrects this."
      ],
      "metadata": {
        "id": "xD6eHei4QfTV"
      }
    },
    {
      "cell_type": "code",
      "source": [
        "# replace 'null' strings with NaN\n",
        "gi_nutrient_df = gi_nutrient_df.replace('null', pd.NA)\n",
        "\n",
        "# count total Nan per column\n",
        "nan_counts = gi_nutrient_df.isna().sum()\n",
        "\n",
        "\n",
        "print(nan_counts)"
      ],
      "metadata": {
        "colab": {
          "base_uri": "https://localhost:8080/"
        },
        "id": "T7eKE_5OZaxh",
        "outputId": "ef2d710c-6236-4485-99e9-73dd3f5f4e04"
      },
      "execution_count": 12,
      "outputs": [
        {
          "output_type": "stream",
          "name": "stdout",
          "text": [
            "DHQ Food Group Code                                                                                                                                               0\n",
            "DHQ Food Group Name                                                                                                                                               0\n",
            "CSFII 1994-96 Food Code                                                                                                                                           0\n",
            "Food Description in 1994-96 CSFII                                                                                                                                 0\n",
            "GI Value                                                                                                                                                          0\n",
            "GI Links to:   Foster-Powel K, Holt, SHA, Brand-Miller JC. International table of glycemic index and glycemic load values: 2002. Am J Clin Nutri 2002;76:5-56.    0\n",
            "Category                                                                                                                                                          0\n",
            "Description                                                                                                                                                       0\n",
            "Nutrient Data Bank Number                                                                                                                                         0\n",
            "Data.Alpha Carotene                                                                                                                                               0\n",
            "Data.Beta Carotene                                                                                                                                                0\n",
            "Data.Beta Cryptoxanthin                                                                                                                                           0\n",
            "Data.Carbohydrate                                                                                                                                                 0\n",
            "Data.Cholesterol                                                                                                                                                  0\n",
            "Data.Choline                                                                                                                                                      0\n",
            "Data.Fiber                                                                                                                                                        0\n",
            "Data.Lutein and Zeaxanthin                                                                                                                                        0\n",
            "Data.Lycopene                                                                                                                                                     0\n",
            "Data.Niacin                                                                                                                                                       0\n",
            "Data.Protein                                                                                                                                                      0\n",
            "Data.Retinol                                                                                                                                                      0\n",
            "Data.Riboflavin                                                                                                                                                   0\n",
            "Data.Selenium                                                                                                                                                     0\n",
            "Data.Sugar Total                                                                                                                                                  0\n",
            "Data.Thiamin                                                                                                                                                      0\n",
            "Data.Water                                                                                                                                                        0\n",
            "Data.Fat.Monosaturated Fat                                                                                                                                        0\n",
            "Data.Fat.Polysaturated Fat                                                                                                                                        0\n",
            "Data.Fat.Saturated Fat                                                                                                                                            0\n",
            "Data.Fat.Total Lipid                                                                                                                                              0\n",
            "Data.Major Minerals.Calcium                                                                                                                                       0\n",
            "Data.Major Minerals.Copper                                                                                                                                        0\n",
            "Data.Major Minerals.Iron                                                                                                                                          0\n",
            "Data.Major Minerals.Magnesium                                                                                                                                     0\n",
            "Data.Major Minerals.Phosphorus                                                                                                                                    0\n",
            "Data.Major Minerals.Potassium                                                                                                                                     0\n",
            "Data.Major Minerals.Sodium                                                                                                                                        0\n",
            "Data.Major Minerals.Zinc                                                                                                                                          0\n",
            "Data.Vitamins.Vitamin A - RAE                                                                                                                                     0\n",
            "Data.Vitamins.Vitamin B12                                                                                                                                         0\n",
            "Data.Vitamins.Vitamin B6                                                                                                                                          0\n",
            "Data.Vitamins.Vitamin C                                                                                                                                           0\n",
            "Data.Vitamins.Vitamin E                                                                                                                                           0\n",
            "Data.Vitamins.Vitamin K                                                                                                                                           0\n",
            "dtype: int64\n"
          ]
        }
      ]
    },
    {
      "cell_type": "code",
      "source": [
        "#Store my file as a .csv\n",
        "gi_nutrient_df.to_csv('final_gi_nutrient_4_3_24.csv', index=False)"
      ],
      "metadata": {
        "id": "NNvXQa65osWJ"
      },
      "execution_count": 13,
      "outputs": []
    },
    {
      "cell_type": "code",
      "source": [
        "from google.colab import files\n",
        "\n",
        "# Download the file\n",
        "files.download('final_gi_nutrient_4_3_24.csv')\n"
      ],
      "metadata": {
        "colab": {
          "base_uri": "https://localhost:8080/",
          "height": 38
        },
        "id": "nPOuuf6houUQ",
        "outputId": "50f68902-4919-447b-e46f-3b510957a0d1"
      },
      "execution_count": null,
      "outputs": [
        {
          "output_type": "display_data",
          "data": {
            "text/plain": [
              "<IPython.core.display.Javascript object>"
            ],
            "application/javascript": [
              "\n",
              "    async function download(id, filename, size) {\n",
              "      if (!google.colab.kernel.accessAllowed) {\n",
              "        return;\n",
              "      }\n",
              "      const div = document.createElement('div');\n",
              "      const label = document.createElement('label');\n",
              "      label.textContent = `Downloading \"${filename}\": `;\n",
              "      div.appendChild(label);\n",
              "      const progress = document.createElement('progress');\n",
              "      progress.max = size;\n",
              "      div.appendChild(progress);\n",
              "      document.body.appendChild(div);\n",
              "\n",
              "      const buffers = [];\n",
              "      let downloaded = 0;\n",
              "\n",
              "      const channel = await google.colab.kernel.comms.open(id);\n",
              "      // Send a message to notify the kernel that we're ready.\n",
              "      channel.send({})\n",
              "\n",
              "      for await (const message of channel.messages) {\n",
              "        // Send a message to notify the kernel that we're ready.\n",
              "        channel.send({})\n",
              "        if (message.buffers) {\n",
              "          for (const buffer of message.buffers) {\n",
              "            buffers.push(buffer);\n",
              "            downloaded += buffer.byteLength;\n",
              "            progress.value = downloaded;\n",
              "          }\n",
              "        }\n",
              "      }\n",
              "      const blob = new Blob(buffers, {type: 'application/binary'});\n",
              "      const a = document.createElement('a');\n",
              "      a.href = window.URL.createObjectURL(blob);\n",
              "      a.download = filename;\n",
              "      div.appendChild(a);\n",
              "      a.click();\n",
              "      div.remove();\n",
              "    }\n",
              "  "
            ]
          },
          "metadata": {}
        },
        {
          "output_type": "display_data",
          "data": {
            "text/plain": [
              "<IPython.core.display.Javascript object>"
            ],
            "application/javascript": [
              "download(\"download_228ba34b-3e26-42a6-b2e5-f0c3caf1b1e7\", \"final_gi_nutrient_4_3_24.csv\", 729421)"
            ]
          },
          "metadata": {}
        }
      ]
    },
    {
      "cell_type": "markdown",
      "source": [
        "# Oxalate / GI Cleaning"
      ],
      "metadata": {
        "id": "g5gj8QXPYrNO"
      }
    },
    {
      "cell_type": "markdown",
      "source": [
        "The code below is the cleaning of the combined oxlate and glycemic index dataset.  This dataset was manually created as an excel file.  Similarly to the last dataset, there are string \"null\" values which need to be converted to NaNs and dropped."
      ],
      "metadata": {
        "id": "3Bfi4HDPQvAI"
      }
    },
    {
      "cell_type": "code",
      "source": [
        "# Deletes columns accidetally brought in from the .xslx file\n",
        "oxalate_gi_df = oxalate_gi_df.drop('Unnamed: 10', axis = 1)\n",
        "oxalate_gi_df = oxalate_gi_df.drop('Unnamed: 11', axis = 1)"
      ],
      "metadata": {
        "id": "AWoIc_uPO_ga"
      },
      "execution_count": 8,
      "outputs": []
    },
    {
      "cell_type": "code",
      "source": [
        "oxalate_gi_df['GI Value'] = pd.to_numeric(oxalate_gi_df['GI Value'], errors='coerce')"
      ],
      "metadata": {
        "id": "IGFZvLbUZnbR"
      },
      "execution_count": 15,
      "outputs": []
    },
    {
      "cell_type": "code",
      "source": [
        "oxalate_gi_df.dropna(subset=['GI Value'], inplace=True)"
      ],
      "metadata": {
        "id": "43P1OT3cZoLN"
      },
      "execution_count": null,
      "outputs": []
    },
    {
      "cell_type": "code",
      "source": [
        "oxalate_gi_df = oxalate_gi_df.replace('null', pd.NA)\n",
        "nan_counts = oxalate_gi_df.isna().sum()\n",
        "print(nan_counts)"
      ],
      "metadata": {
        "colab": {
          "base_uri": "https://localhost:8080/"
        },
        "id": "GLNNr10DZxXM",
        "outputId": "440fc79f-8b9b-45da-899d-5d0f24c7c124"
      },
      "execution_count": null,
      "outputs": [
        {
          "output_type": "stream",
          "name": "stdout",
          "text": [
            "Food Group                                                                                                                                                        0\n",
            "Subgroup                                                                                                                                                          0\n",
            "Food Item                                                                                                                                                         0\n",
            "Serving size                                                                                                                                                      0\n",
            "Oxalate Category                                                                                                                                                  0\n",
            "Oxalate Value                                                                                                                                                     0\n",
            "CSFII 1994-96 Food Code                                                                                                                                           1\n",
            "Food Description in 1994-96 CSFII                                                                                                                                 1\n",
            "GI Value                                                                                                                                                          0\n",
            "GI Links to:   Foster-Powel K, Holt, SHA, Brand-Miller JC. International table of glycemic index and glycemic load values: 2002. Am J Clin Nutri 2002;76:5-56.    1\n",
            "dtype: int64\n"
          ]
        }
      ]
    },
    {
      "cell_type": "code",
      "source": [
        "oxalate_gi_df['GI Value'].unique()"
      ],
      "metadata": {
        "colab": {
          "base_uri": "https://localhost:8080/"
        },
        "id": "VHyN9IRFZ1IN",
        "outputId": "0c6767b1-d28e-4d57-e185-c8c0346f5a35"
      },
      "execution_count": null,
      "outputs": [
        {
          "output_type": "execute_result",
          "data": {
            "text/plain": [
              "array([ 50. , 103. ,  25. ,  53. ,  42. ,  61. ,  38. ,  52. ,  40. ,\n",
              "        22. ,  59. ,  64. ,  65. ,  46. ,  39. ,  72. ,  43.5,  58. ,\n",
              "        55. ,  29. ,  31. ,  32. ,  97. ,  28. ,  37. ,  16. ,  47. ,\n",
              "        42.6,  53.5,  48. ,  75. ,  72.5,  79.3,  85. ,  54. ,  65.8,\n",
              "        68.2,  65.9,  27. ,  55.4,  36. ,  33. ,  19. ,  37.5,  24. ,\n",
              "        29.5,  67. ,  71. , 102. ,  61.1,  66. ,  92. ,  60. ,  77. ,\n",
              "        43. ,  68. ,  70. ,  73. ,  83. ,  75.5,  45. ,  69. ,  89. ,\n",
              "        29.2,  95. ,   0. ,  14. ,  18. ,  20. ,  51. ,  57.9,  49. ,\n",
              "        44. ,  78. ,  82. ,  62.5,  63. ,  74. ,  81. ])"
            ]
          },
          "metadata": {},
          "execution_count": 19
        }
      ]
    },
    {
      "cell_type": "code",
      "source": [
        "oxalate_gi_df.dtypes"
      ],
      "metadata": {
        "colab": {
          "base_uri": "https://localhost:8080/"
        },
        "id": "DT6ciXYiZ6wx",
        "outputId": "d52d659b-1b39-4f51-dda6-cdc9e7e4753c"
      },
      "execution_count": null,
      "outputs": [
        {
          "output_type": "execute_result",
          "data": {
            "text/plain": [
              "Food Group                                                                                                                                                         object\n",
              "Subgroup                                                                                                                                                           object\n",
              "Food Item                                                                                                                                                          object\n",
              "Serving size                                                                                                                                                       object\n",
              "Oxalate Category                                                                                                                                                   object\n",
              "Oxalate Value                                                                                                                                                       int64\n",
              "CSFII 1994-96 Food Code                                                                                                                                           float64\n",
              "Food Description in 1994-96 CSFII                                                                                                                                  object\n",
              "GI Value                                                                                                                                                          float64\n",
              "GI Links to:   Foster-Powel K, Holt, SHA, Brand-Miller JC. International table of glycemic index and glycemic load values: 2002. Am J Clin Nutri 2002;76:5-56.     object\n",
              "dtype: object"
            ]
          },
          "metadata": {},
          "execution_count": 20
        }
      ]
    },
    {
      "cell_type": "code",
      "source": [
        "oxalate_gi_df.columns"
      ],
      "metadata": {
        "colab": {
          "base_uri": "https://localhost:8080/"
        },
        "id": "R5PaPQokP7Ag",
        "outputId": "fe208a2e-9dfa-4f4e-ef33-7b960c80f2c7"
      },
      "execution_count": null,
      "outputs": [
        {
          "output_type": "execute_result",
          "data": {
            "text/plain": [
              "Index(['Food Group', 'Subgroup', 'Food Item', 'Serving size',\n",
              "       'Oxalate Category', 'Oxalate Value', 'CSFII 1994-96 Food Code',\n",
              "       'Food Description in 1994-96 CSFII', 'GI Value',\n",
              "       'GI Links to:   Foster-Powel K, Holt, SHA, Brand-Miller JC. International table of glycemic index and glycemic load values: 2002. Am J Clin Nutri 2002;76:5-56.'],\n",
              "      dtype='object')"
            ]
          },
          "metadata": {},
          "execution_count": 21
        }
      ]
    },
    {
      "cell_type": "code",
      "source": [
        "oxalate_gi_df.to_csv('final_oxalate_gi_4_3_24.csv', index=False)"
      ],
      "metadata": {
        "id": "89B9ox4ccmfq"
      },
      "execution_count": null,
      "outputs": []
    },
    {
      "cell_type": "code",
      "source": [
        "from google.colab import files\n",
        "\n",
        "# Download\n",
        "files.download('final_oxalate_gi_4_3_24.csv')"
      ],
      "metadata": {
        "colab": {
          "base_uri": "https://localhost:8080/",
          "height": 38
        },
        "id": "k0PpE9q2cnYD",
        "outputId": "f0fae262-32fa-4f8c-8af8-1f5746abdc9c"
      },
      "execution_count": null,
      "outputs": [
        {
          "output_type": "display_data",
          "data": {
            "text/plain": [
              "<IPython.core.display.Javascript object>"
            ],
            "application/javascript": [
              "\n",
              "    async function download(id, filename, size) {\n",
              "      if (!google.colab.kernel.accessAllowed) {\n",
              "        return;\n",
              "      }\n",
              "      const div = document.createElement('div');\n",
              "      const label = document.createElement('label');\n",
              "      label.textContent = `Downloading \"${filename}\": `;\n",
              "      div.appendChild(label);\n",
              "      const progress = document.createElement('progress');\n",
              "      progress.max = size;\n",
              "      div.appendChild(progress);\n",
              "      document.body.appendChild(div);\n",
              "\n",
              "      const buffers = [];\n",
              "      let downloaded = 0;\n",
              "\n",
              "      const channel = await google.colab.kernel.comms.open(id);\n",
              "      // Send a message to notify the kernel that we're ready.\n",
              "      channel.send({})\n",
              "\n",
              "      for await (const message of channel.messages) {\n",
              "        // Send a message to notify the kernel that we're ready.\n",
              "        channel.send({})\n",
              "        if (message.buffers) {\n",
              "          for (const buffer of message.buffers) {\n",
              "            buffers.push(buffer);\n",
              "            downloaded += buffer.byteLength;\n",
              "            progress.value = downloaded;\n",
              "          }\n",
              "        }\n",
              "      }\n",
              "      const blob = new Blob(buffers, {type: 'application/binary'});\n",
              "      const a = document.createElement('a');\n",
              "      a.href = window.URL.createObjectURL(blob);\n",
              "      a.download = filename;\n",
              "      div.appendChild(a);\n",
              "      a.click();\n",
              "      div.remove();\n",
              "    }\n",
              "  "
            ]
          },
          "metadata": {}
        },
        {
          "output_type": "display_data",
          "data": {
            "text/plain": [
              "<IPython.core.display.Javascript object>"
            ],
            "application/javascript": [
              "download(\"download_7449ef8e-6e87-48ba-a2c5-41bbef4059e4\", \"final_oxalate_gi_4_3_24.csv\", 64257)"
            ]
          },
          "metadata": {}
        }
      ]
    },
    {
      "cell_type": "markdown",
      "source": [
        "# Triple Threat Merge"
      ],
      "metadata": {
        "id": "RzzjTKCpY-UH"
      }
    },
    {
      "cell_type": "markdown",
      "source": [
        "Here I merge the three datasets together and save the .csv file.  This is achieved using an inner join on the CSFII 1994-96 Food Code."
      ],
      "metadata": {
        "id": "Ce7GzXfKRqoA"
      }
    },
    {
      "cell_type": "code",
      "source": [
        "gi_nutrient_df.columns"
      ],
      "metadata": {
        "colab": {
          "base_uri": "https://localhost:8080/"
        },
        "id": "WlmLdPUhR1LY",
        "outputId": "a815f1e2-cc50-42a4-c2a0-3711accb0a87"
      },
      "execution_count": null,
      "outputs": [
        {
          "output_type": "execute_result",
          "data": {
            "text/plain": [
              "Index(['DHQ Food Group Code', 'DHQ Food Group Name', 'CSFII 1994-96 Food Code',\n",
              "       'Category', 'Description', 'Nutrient Data Bank Number',\n",
              "       'Data.Alpha Carotene', 'Data.Beta Carotene', 'Data.Beta Cryptoxanthin',\n",
              "       'Data.Carbohydrate', 'Data.Cholesterol', 'Data.Choline', 'Data.Fiber',\n",
              "       'Data.Lutein and Zeaxanthin', 'Data.Lycopene', 'Data.Niacin',\n",
              "       'Data.Protein', 'Data.Retinol', 'Data.Riboflavin', 'Data.Selenium',\n",
              "       'Data.Sugar Total', 'Data.Thiamin', 'Data.Water',\n",
              "       'Data.Fat.Monosaturated Fat', 'Data.Fat.Polysaturated Fat',\n",
              "       'Data.Fat.Saturated Fat', 'Data.Fat.Total Lipid',\n",
              "       'Data.Major Minerals.Calcium', 'Data.Major Minerals.Copper',\n",
              "       'Data.Major Minerals.Iron', 'Data.Major Minerals.Magnesium',\n",
              "       'Data.Major Minerals.Phosphorus', 'Data.Major Minerals.Potassium',\n",
              "       'Data.Major Minerals.Sodium', 'Data.Major Minerals.Zinc',\n",
              "       'Data.Vitamins.Vitamin A - RAE', 'Data.Vitamins.Vitamin B12',\n",
              "       'Data.Vitamins.Vitamin B6', 'Data.Vitamins.Vitamin C',\n",
              "       'Data.Vitamins.Vitamin E', 'Data.Vitamins.Vitamin K'],\n",
              "      dtype='object')"
            ]
          },
          "metadata": {},
          "execution_count": 35
        }
      ]
    },
    {
      "cell_type": "code",
      "source": [
        "oxalate_gi_df.columns"
      ],
      "metadata": {
        "colab": {
          "base_uri": "https://localhost:8080/"
        },
        "id": "qYrrB4GMRvgO",
        "outputId": "8488ef43-e891-4120-a8e4-3cbdfc646efd"
      },
      "execution_count": null,
      "outputs": [
        {
          "output_type": "execute_result",
          "data": {
            "text/plain": [
              "Index(['Food Group', 'Subgroup', 'Food Item', 'Serving size',\n",
              "       'Oxalate Category', 'Oxalate Value', 'CSFII 1994-96 Food Code',\n",
              "       'Food Description in 1994-96 CSFII', 'GI Value',\n",
              "       'GI Links to:   Foster-Powel K, Holt, SHA, Brand-Miller JC. International table of glycemic index and glycemic load values: 2002. Am J Clin Nutri 2002;76:5-56.'],\n",
              "      dtype='object')"
            ]
          },
          "metadata": {},
          "execution_count": 23
        }
      ]
    },
    {
      "cell_type": "code",
      "source": [
        "gi_nutrient_df = gi_nutrient_df.drop(columns=[\n",
        "    'Food Description in 1994-96 CSFII',\n",
        "    'GI Value',\n",
        "    'GI Links to:   Foster-Powel K, Holt, SHA, Brand-Miller JC. International table of glycemic index and glycemic load values: 2002. Am J Clin Nutri 2002;76:5-56.'\n",
        "])"
      ],
      "metadata": {
        "id": "2pvdjwv2nvon"
      },
      "execution_count": null,
      "outputs": []
    },
    {
      "cell_type": "code",
      "source": [
        "triple_threat = pd.merge(gi_nutrient_df, oxalate_gi_df,\n",
        "                         on='CSFII 1994-96 Food Code',\n",
        "                         how='inner')"
      ],
      "metadata": {
        "id": "rM7VymvUSdsG"
      },
      "execution_count": null,
      "outputs": []
    },
    {
      "cell_type": "code",
      "source": [
        "len(triple_threat)"
      ],
      "metadata": {
        "colab": {
          "base_uri": "https://localhost:8080/"
        },
        "id": "2aT6YOMvb0MB",
        "outputId": "dbbda6cc-f2a2-4827-d41f-c362da581fbb"
      },
      "execution_count": null,
      "outputs": [
        {
          "output_type": "execute_result",
          "data": {
            "text/plain": [
              "264"
            ]
          },
          "metadata": {},
          "execution_count": 37
        }
      ]
    },
    {
      "cell_type": "code",
      "source": [
        "triple_threat.dtypes"
      ],
      "metadata": {
        "colab": {
          "base_uri": "https://localhost:8080/"
        },
        "id": "0R3mO8tBaYQN",
        "outputId": "19ef1f7a-0b79-47dc-851d-50ef0e74c4bb"
      },
      "execution_count": null,
      "outputs": [
        {
          "output_type": "execute_result",
          "data": {
            "text/plain": [
              "DHQ Food Group Code                                                                                                                                               float64\n",
              "DHQ Food Group Name                                                                                                                                                object\n",
              "CSFII 1994-96 Food Code                                                                                                                                             int64\n",
              "Category                                                                                                                                                           object\n",
              "Description                                                                                                                                                        object\n",
              "Nutrient Data Bank Number                                                                                                                                           int64\n",
              "Data.Alpha Carotene                                                                                                                                                 int64\n",
              "Data.Beta Carotene                                                                                                                                                  int64\n",
              "Data.Beta Cryptoxanthin                                                                                                                                             int64\n",
              "Data.Carbohydrate                                                                                                                                                 float64\n",
              "Data.Cholesterol                                                                                                                                                    int64\n",
              "Data.Choline                                                                                                                                                      float64\n",
              "Data.Fiber                                                                                                                                                        float64\n",
              "Data.Lutein and Zeaxanthin                                                                                                                                          int64\n",
              "Data.Lycopene                                                                                                                                                       int64\n",
              "Data.Niacin                                                                                                                                                       float64\n",
              "Data.Protein                                                                                                                                                      float64\n",
              "Data.Retinol                                                                                                                                                        int64\n",
              "Data.Riboflavin                                                                                                                                                   float64\n",
              "Data.Selenium                                                                                                                                                     float64\n",
              "Data.Sugar Total                                                                                                                                                  float64\n",
              "Data.Thiamin                                                                                                                                                      float64\n",
              "Data.Water                                                                                                                                                        float64\n",
              "Data.Fat.Monosaturated Fat                                                                                                                                        float64\n",
              "Data.Fat.Polysaturated Fat                                                                                                                                        float64\n",
              "Data.Fat.Saturated Fat                                                                                                                                            float64\n",
              "Data.Fat.Total Lipid                                                                                                                                              float64\n",
              "Data.Major Minerals.Calcium                                                                                                                                         int64\n",
              "Data.Major Minerals.Copper                                                                                                                                        float64\n",
              "Data.Major Minerals.Iron                                                                                                                                          float64\n",
              "Data.Major Minerals.Magnesium                                                                                                                                       int64\n",
              "Data.Major Minerals.Phosphorus                                                                                                                                      int64\n",
              "Data.Major Minerals.Potassium                                                                                                                                       int64\n",
              "Data.Major Minerals.Sodium                                                                                                                                          int64\n",
              "Data.Major Minerals.Zinc                                                                                                                                          float64\n",
              "Data.Vitamins.Vitamin A - RAE                                                                                                                                       int64\n",
              "Data.Vitamins.Vitamin B12                                                                                                                                         float64\n",
              "Data.Vitamins.Vitamin B6                                                                                                                                          float64\n",
              "Data.Vitamins.Vitamin C                                                                                                                                           float64\n",
              "Data.Vitamins.Vitamin E                                                                                                                                           float64\n",
              "Data.Vitamins.Vitamin K                                                                                                                                           float64\n",
              "Food Group                                                                                                                                                         object\n",
              "Subgroup                                                                                                                                                           object\n",
              "Food Item                                                                                                                                                          object\n",
              "Serving size                                                                                                                                                       object\n",
              "Oxalate Category                                                                                                                                                   object\n",
              "Oxalate Value                                                                                                                                                       int64\n",
              "Food Description in 1994-96 CSFII                                                                                                                                  object\n",
              "GI Value                                                                                                                                                          float64\n",
              "GI Links to:   Foster-Powel K, Holt, SHA, Brand-Miller JC. International table of glycemic index and glycemic load values: 2002. Am J Clin Nutri 2002;76:5-56.     object\n",
              "dtype: object"
            ]
          },
          "metadata": {},
          "execution_count": 38
        }
      ]
    },
    {
      "cell_type": "code",
      "source": [
        "triple_threat.to_csv('triple_threat_4_3_24.csv', index=False)"
      ],
      "metadata": {
        "id": "O8Qys9gKS8mo"
      },
      "execution_count": null,
      "outputs": []
    },
    {
      "cell_type": "code",
      "source": [
        "from google.colab import files\n",
        "\n",
        "# Trigger the browser download\n",
        "files.download('triple_threat_4_3_24.csv')"
      ],
      "metadata": {
        "id": "DG-VbtIXS-Mn",
        "outputId": "6e70a176-54b5-47af-f1b5-4ab8a0473e5f",
        "colab": {
          "base_uri": "https://localhost:8080/",
          "height": 60
        }
      },
      "execution_count": null,
      "outputs": [
        {
          "output_type": "display_data",
          "data": {
            "text/plain": [
              "<IPython.core.display.Javascript object>"
            ],
            "application/javascript": [
              "\n",
              "    async function download(id, filename, size) {\n",
              "      if (!google.colab.kernel.accessAllowed) {\n",
              "        return;\n",
              "      }\n",
              "      const div = document.createElement('div');\n",
              "      const label = document.createElement('label');\n",
              "      label.textContent = `Downloading \"${filename}\": `;\n",
              "      div.appendChild(label);\n",
              "      const progress = document.createElement('progress');\n",
              "      progress.max = size;\n",
              "      div.appendChild(progress);\n",
              "      document.body.appendChild(div);\n",
              "\n",
              "      const buffers = [];\n",
              "      let downloaded = 0;\n",
              "\n",
              "      const channel = await google.colab.kernel.comms.open(id);\n",
              "      // Send a message to notify the kernel that we're ready.\n",
              "      channel.send({})\n",
              "\n",
              "      for await (const message of channel.messages) {\n",
              "        // Send a message to notify the kernel that we're ready.\n",
              "        channel.send({})\n",
              "        if (message.buffers) {\n",
              "          for (const buffer of message.buffers) {\n",
              "            buffers.push(buffer);\n",
              "            downloaded += buffer.byteLength;\n",
              "            progress.value = downloaded;\n",
              "          }\n",
              "        }\n",
              "      }\n",
              "      const blob = new Blob(buffers, {type: 'application/binary'});\n",
              "      const a = document.createElement('a');\n",
              "      a.href = window.URL.createObjectURL(blob);\n",
              "      a.download = filename;\n",
              "      div.appendChild(a);\n",
              "      a.click();\n",
              "      div.remove();\n",
              "    }\n",
              "  "
            ]
          },
          "metadata": {}
        },
        {
          "output_type": "display_data",
          "data": {
            "text/plain": [
              "<IPython.core.display.Javascript object>"
            ],
            "application/javascript": [
              "download(\"download_17869d68-c451-4143-adc5-6ef0d0651dd1\", \"triple_threat_4_3_24.csv\", 109108)"
            ]
          },
          "metadata": {}
        }
      ]
    }
  ]
}